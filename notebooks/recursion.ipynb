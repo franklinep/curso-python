{
 "cells": [
  {
   "cell_type": "markdown",
   "metadata": {},
   "source": [
    "# ¿Qué es la Recursión?\n",
    "Es una técnica donde una función se llama a sí misma para resolver un problema. En lugar de resolver el problema de golpe, lo divide en subproblemas idénticos pero más pequeños, hasta llegar a un punto donde el problema es tan simple que se puede resolver directamente.\n",
    "\n",
    "Toda función recursiva funcional debe tener dos componentes esenciales para evitar que se llame a sí misma infinitamente.\n",
    "* El Caso Base: Es la condición que detiene la recursión. Es la versión más simple del problema, aquella que se puede resolver sin necesidad de más llamadas recursivas. Sin ella, las llamadas recursivas continuarían eternamente, provocando finalmente el fallo de la función o el agotamiento de la memoria disponible.\n",
    "* La Llamada Recursiva (o Paso Recursivo): Es la parte de la función donde se vuelve a llamar a sí misma, pero con un argumento modificado que se acerca progresivamente al caso base. Cada llamada recursiva resuelve una pieza más pequeña del problema original.\n",
    "\n",
    "# Cómo detener la recursión en Python\n",
    "* Un buen caso base (debes asegurarte de que toda función recursiva tiene una condición bajo la cual termina)\n",
    "* Agregando casos de terminacion (cuando se excede un tiempo, o numero de iteracione recursivas, etc)"
   ]
  },
  {
   "cell_type": "markdown",
   "metadata": {},
   "source": [
    "# Ejemplos"
   ]
  },
  {
   "cell_type": "markdown",
   "metadata": {},
   "source": [
    "## 1. Suma recursiva"
   ]
  },
  {
   "cell_type": "code",
   "execution_count": null,
   "metadata": {},
   "outputs": [
    {
     "name": "stdout",
     "output_type": "stream",
     "text": [
      "6\n"
     ]
    }
   ],
   "source": [
    "def sum_recursive(num):\n",
    "    if num == 1:  # Caso base\n",
    "        return num\n",
    "    return num + sum_recursive(num-1)  # La llamada recursiva\n",
    "\n",
    "# sum_recursive(3) = 3 + 3 = 6\n",
    "# sum_recursive(2) = 2 + 1 = 3\n",
    "# sum_recursive(1) = 1  --\n",
    "print(sum_recursive(3)) # 3 + 2 + 1"
   ]
  },
  {
   "cell_type": "markdown",
   "metadata": {},
   "source": [
    "En esta función, el caso base es cuando `num == 1`, que detiene la recursión. \n",
    "\n",
    "En caso contrario, la función se llama a sí misma con `num - 1` hasta llegar al caso base.\n",
    "\n",
    "Cómo funciona paso a paso:\n",
    "\n",
    "1. sum_recursive(3) llama a sum_recursive(2).\n",
    "2. sum_recursive(2) llama a sum_recursive(1).\n",
    "3. sum_recursive(1) devuelve 1 (caso base).\n",
    "\n",
    "Ahora, sum_recursive(2) puede devolver 2 + 1 = 3, y sum_recursive(3) puede devolver 3 + 3 = 6."
   ]
  },
  {
   "cell_type": "markdown",
   "metadata": {},
   "source": [
    "## 2. Potencia de un numero"
   ]
  },
  {
   "cell_type": "code",
   "execution_count": 5,
   "metadata": {},
   "outputs": [
    {
     "name": "stdout",
     "output_type": "stream",
     "text": [
      "1024\n"
     ]
    }
   ],
   "source": [
    "def power(base, exponent):\n",
    "    if exponent == 0:  #  Caso base\n",
    "        return 1\n",
    "    else:\n",
    "        return base * power(base, exponent - 1)  #  llamada recursiva\n",
    "\n",
    "# 2^5 = 2 * 2 * 2 * 2 * 2 * 1 = 32\n",
    "print(power(2, 10))"
   ]
  },
  {
   "cell_type": "markdown",
   "metadata": {},
   "source": [
    "Explicación paso a paso de esta función de potencia:\n",
    "\n",
    "1. power(2, 3) llama a power(2, 2).\n",
    "2. power(2, 2) llama a power(2, 1).\n",
    "3. power(2, 1) llama a power(2, 0).\n",
    "4. power(2, 0) devuelve 1 (caso base).\n",
    "5. Ahora, trabajando hacia atrás: \n",
    "* power(2, 1) devuelve 2 * 1 = 2.\n",
    "* Entonces power(2, 2) devuelve 2 * 2 = 4.\n",
    "* Por último, power(2, 3) devuelve 2 * 4 = 8."
   ]
  },
  {
   "cell_type": "markdown",
   "metadata": {},
   "source": [
    "## !IMPORTANTE!"
   ]
  },
  {
   "cell_type": "markdown",
   "metadata": {},
   "source": [
    "Cuando se llama a una función recursiva, cada llamada recursiva crea una nueva entrada en la pila de llamadas (call stack). Esta pila lleva la cuenta de todas las llamadas a funciones y sus variables. Cuando se alcanza el caso base, la pila empieza a resolver cada llamada en orden inverso, calculando el resultado final paso a paso.\n",
    "\n",
    "Conserva elegantemente el contexto, pero también puede provocar problemas de memoria con la recursividad profunda."
   ]
  },
  {
   "cell_type": "markdown",
   "metadata": {},
   "source": [
    "# Problemas"
   ]
  },
  {
   "cell_type": "markdown",
   "metadata": {},
   "source": [
    "## 1. Factorial\n",
    "n! = n × (n − 1) × (n − 2) × … × 1\n"
   ]
  },
  {
   "cell_type": "code",
   "execution_count": null,
   "metadata": {},
   "outputs": [],
   "source": [
    "# tu respuesta"
   ]
  },
  {
   "cell_type": "markdown",
   "metadata": {},
   "source": [
    "## 2. Sucesión de Fibonacci\n",
    "\n",
    "F(n) = F(n-1) + F(n-2) "
   ]
  },
  {
   "cell_type": "code",
   "execution_count": null,
   "metadata": {},
   "outputs": [],
   "source": [
    "# tu respuesta"
   ]
  }
 ],
 "metadata": {
  "kernelspec": {
   "display_name": "env",
   "language": "python",
   "name": "python3"
  },
  "language_info": {
   "codemirror_mode": {
    "name": "ipython",
    "version": 3
   },
   "file_extension": ".py",
   "mimetype": "text/x-python",
   "name": "python",
   "nbconvert_exporter": "python",
   "pygments_lexer": "ipython3",
   "version": "3.9.13"
  }
 },
 "nbformat": 4,
 "nbformat_minor": 2
}
