{
 "cells": [
  {
   "cell_type": "markdown",
   "metadata": {},
   "source": [
    "# ¿Qué es la Recursión?\n",
    "Es una técnica donde una función se llama a sí misma para resolver un problema. En lugar de resolver el problema de golpe, lo divide en subproblemas idénticos pero más pequeños, hasta llegar a un punto donde el problema es tan simple que se puede resolver directamente.\n",
    "\n",
    "Toda función recursiva funcional debe tener dos componentes esenciales para evitar que se llame a sí misma infinitamente.\n",
    "* El Caso Base: Es la condición que detiene la recursión. Es la versión más simple del problema, aquella que se puede resolver sin necesidad de más llamadas recursivas. Sin ella, las llamadas recursivas continuarían eternamente, provocando finalmente el fallo de la función o el agotamiento de la memoria disponible.\n",
    "* La Llamada Recursiva (o Paso Recursivo): Es la parte de la función donde se vuelve a llamar a sí misma, pero con un argumento modificado que se acerca progresivamente al caso base. Cada llamada recursiva resuelve una pieza más pequeña del problema original.\n",
    "\n",
    "# Cómo detener la recursión en Python\n",
    "* Un buen caso base (debes asegurarte de que toda función recursiva tiene una condición bajo la cual termina)\n",
    "* Agregando casos de terminacion (cuando se excede un tiempo, o numero de iteracione recursivas, etc)"
   ]
  },
  {
   "cell_type": "markdown",
   "metadata": {},
   "source": [
    "# Ejemplos"
   ]
  },
  {
   "cell_type": "markdown",
   "metadata": {},
   "source": [
    "## 1. Suma recursiva"
   ]
  },
  {
   "cell_type": "code",
   "execution_count": null,
   "metadata": {},
   "outputs": [
    {
     "name": "stdout",
     "output_type": "stream",
     "text": [
      "6\n"
     ]
    }
   ],
   "source": [
    "def sum_recursive(num):\n",
    "    if num == 1:  # Caso base\n",
    "        return num\n",
    "    return num + sum_recursive(num-1)  # La llamada recursiva\n",
    "\n",
    "# sum_recursive(3) = 3 + 3 = 6\n",
    "# sum_recursive(2) = 2 + 1 = 3\n",
    "# sum_recursive(1) = 1  --\n",
    "print(sum_recursive(3)) # 3 + 2 + 1"
   ]
  },
  {
   "cell_type": "markdown",
   "metadata": {},
   "source": [
    "En esta función, el caso base es cuando `num == 1`, que detiene la recursión. \n",
    "\n",
    "En caso contrario, la función se llama a sí misma con `num - 1` hasta llegar al caso base.\n",
    "\n",
    "Cómo funciona paso a paso:\n",
    "\n",
    "1. sum_recursive(3) llama a sum_recursive(2).\n",
    "2. sum_recursive(2) llama a sum_recursive(1).\n",
    "3. sum_recursive(1) devuelve 1 (caso base).\n",
    "\n",
    "Ahora, sum_recursive(2) puede devolver 2 + 1 = 3, y sum_recursive(3) puede devolver 3 + 3 = 6."
   ]
  },
  {
   "cell_type": "markdown",
   "metadata": {},
   "source": [
    "## 2. Potencia de un numero"
   ]
  },
  {
   "cell_type": "code",
   "execution_count": 5,
   "metadata": {},
   "outputs": [
    {
     "name": "stdout",
     "output_type": "stream",
     "text": [
      "1024\n"
     ]
    }
   ],
   "source": [
    "def power(base, exponent):\n",
    "    if exponent == 0:  #  Caso base\n",
    "        return 1\n",
    "    else:\n",
    "        return base * power(base, exponent - 1)  #  llamada recursiva\n",
    "\n",
    "# 2^5 = 2 * 2 * 2 * 2 * 2 * 1 = 32\n",
    "print(power(2, 10))"
   ]
  },
  {
   "cell_type": "markdown",
   "metadata": {},
   "source": [
    "Explicación paso a paso de esta función de potencia:\n",
    "\n",
    "1. power(2, 3) llama a power(2, 2).\n",
    "2. power(2, 2) llama a power(2, 1).\n",
    "3. power(2, 1) llama a power(2, 0).\n",
    "4. power(2, 0) devuelve 1 (caso base).\n",
    "5. Ahora, trabajando hacia atrás: \n",
    "* power(2, 1) devuelve 2 * 1 = 2.\n",
    "* Entonces power(2, 2) devuelve 2 * 2 = 4.\n",
    "* Por último, power(2, 3) devuelve 2 * 4 = 8."
   ]
  },
  {
   "cell_type": "markdown",
   "metadata": {},
   "source": [
    "## !IMPORTANTE!"
   ]
  },
  {
   "cell_type": "markdown",
   "metadata": {},
   "source": [
    "Cuando se llama a una función recursiva, cada llamada recursiva crea una nueva entrada en la pila de llamadas (call stack). Esta pila lleva la cuenta de todas las llamadas a funciones y sus variables. Cuando se alcanza el caso base, la pila empieza a resolver cada llamada en orden inverso, calculando el resultado final paso a paso.\n",
    "\n",
    "Conserva elegantemente el contexto, pero también puede provocar problemas de memoria con la recursividad profunda."
   ]
  },
  {
   "cell_type": "markdown",
   "metadata": {},
   "source": [
    "# Problemas"
   ]
  },
  {
   "cell_type": "markdown",
   "metadata": {},
   "source": [
    "## 1. Factorial\n",
    "n! = n × (n − 1) × (n − 2) × … × 1\n"
   ]
  },
  {
   "cell_type": "code",
   "execution_count": null,
   "metadata": {},
   "outputs": [
    {
     "name": "stdout",
     "output_type": "stream",
     "text": [
      "120\n"
     ]
    }
   ],
   "source": [
    "# tu respuesta\n",
    "def factorial(a):\n",
    "    if a == 1: # Caso base\n",
    "        return 1\n",
    "    else:\n",
    "        return a*factorial(a-1) # llamada recursiva\n",
    "\n",
    "print(factorial(4))\n",
    "## ----->\n",
    "# factorial(1) = 1\n",
    "# factorial(2) = 2 * factorial(1)\n",
    "# factorial(3) = 3 * factorial(2)\n",
    "# factorial(4) = 4 * factorial(3)"
   ]
  },
  {
   "cell_type": "markdown",
   "metadata": {},
   "source": [
    "## 2. Sucesión de Fibonacci\n",
    "\n",
    "F(n) = F(n-1) + F(n-2) "
   ]
  },
  {
   "cell_type": "code",
   "execution_count": null,
   "metadata": {},
   "outputs": [
    {
     "name": "stdout",
     "output_type": "stream",
     "text": [
      "21\n"
     ]
    }
   ],
   "source": [
    "# tu respuesta\n",
    "def fibonacci(k):\n",
    "    if k == 0:\n",
    "        return 0\n",
    "    elif k == 1:\n",
    "        return 1\n",
    "    else:\n",
    "        return fibonacci(k-2) + fibonacci(k-1)\n",
    "# fibonacc(8) = 1 + 1 + 2 + 3 + 5 + 8 + 13 + 21\n",
    "### --------------->\n",
    "\n",
    "### .......\n",
    "\n",
    "# # fibonacci(0) = 0\n",
    "# fibonacci(1) = 1\n",
    "#  fibonacci(2) = 0 + 1 = 1\n",
    "\n",
    "# fibonacci(1) = 1\n",
    "# fibonacci(3) = 1 + 1 = 2\n",
    "\n",
    "# fibonacci(2) = 0 + 1 = 1\n",
    "# fibonacci(4) =  1 + 2 = 3\n",
    "# fibonacci(6) = 3 + fibonacci(5)\n",
    "# fibanncci(8) = fibonacci(6) + fibonacci(7)\n",
    "print(fibonacci(8))"
   ]
  },
  {
   "cell_type": "code",
   "execution_count": 14,
   "metadata": {},
   "outputs": [
    {
     "name": "stdout",
     "output_type": "stream",
     "text": [
      "21\n"
     ]
    }
   ],
   "source": [
    "def fibonacci(n):\n",
    "    if n <= 1:\n",
    "        return n\n",
    "    return fibonacci(n - 1) + fibonacci(n - 2)\n",
    "print(fibonacci(8))"
   ]
  },
  {
   "cell_type": "markdown",
   "metadata": {},
   "source": [
    "## 3. Impreison de un triangulo de altura h\n",
    "\n",
    "Escribir un programa que pida al usuario un número entero y muestre por pantalla un triángulo como el de más abajo, de altura el número introducido.\n"
   ]
  },
  {
   "cell_type": "code",
   "execution_count": 21,
   "metadata": {},
   "outputs": [
    {
     "name": "stdout",
     "output_type": "stream",
     "text": [
      "         *\n",
      "        ***\n",
      "       *****\n",
      "      *******\n",
      "     *********\n",
      "    ***********\n",
      "   *************\n",
      "  ***************\n",
      " *****************\n",
      "*******************\n"
     ]
    }
   ],
   "source": [
    "# solucion\n",
    "def imp_triangulo(nivel, altura):\n",
    "    if nivel>altura: # caso base\n",
    "        return\n",
    "    espacios = ' ' * (altura-nivel)\n",
    "    asteriscos = '*' * (2*nivel-1)\n",
    "    print(espacios + asteriscos)\n",
    "    imp_triangulo(nivel + 1, altura)\n",
    "\n",
    "imp_triangulo(1, 10)"
   ]
  },
  {
   "cell_type": "code",
   "execution_count": 15,
   "metadata": {},
   "outputs": [
    {
     "data": {
      "text/plain": [
       "6"
      ]
     },
     "execution_count": 15,
     "metadata": {},
     "output_type": "execute_result"
    }
   ],
   "source": [
    "2*3"
   ]
  },
  {
   "cell_type": "markdown",
   "metadata": {},
   "source": [
    "## 4. Hallar el numero maximo de un vector de enteros (usando solo recursividad)\n",
    "\n"
   ]
  },
  {
   "cell_type": "code",
   "execution_count": 27,
   "metadata": {},
   "outputs": [
    {
     "name": "stdout",
     "output_type": "stream",
     "text": [
      "11\n"
     ]
    }
   ],
   "source": [
    "def get_max(list,max_act):\n",
    "    if len(list) == 0:\n",
    "        return max_act\n",
    "    if list[0]>max_act:\n",
    "        max_act = list[0]\n",
    "    return get_max(list[1:], max_act) # llamada recursiva\n",
    "#### --------------->\n",
    "# get_max([ 2, 8], 11 max_act = 11\n",
    "# get_max([ 3 , 2, 8], 11 max_act = 11\n",
    "# get_max([11, 3 , 2, 8], 10) max_act = 11\n",
    "# get_max([5,11, 3 , 2, 8], 10) = 10\n",
    "# get_max([4,5,1,3,2,8],10) = 10\n",
    "# get_max([10,4,5,113,2,8],0) = 10\n",
    "## get_max([10,4,511,3,2,8],0) = 11\n",
    "\n",
    "print(get_max([10,4,5,11,3,2,8],0))"
   ]
  },
  {
   "cell_type": "markdown",
   "metadata": {},
   "source": [
    "## 5 Torre de Hanoi\n",
    "El juego de la Torre de Hanói consiste en tres pilas (izquierda, centro y derecha) y n discos redondos de diferentes tamaños. Inicialmente, la pila de la izquierda tiene todos los discos, en orden creciente de tamaño de arriba hacia abajo.\n",
    "\n",
    "El objetivo es mover todos los discos a la pila de la derecha usando la pila del centro. En cada movimiento se puede mover el disco superior de una pila a otra. Además, no está permitido colocar un disco más grande sobre uno más pequeño.\n",
    "\n",
    "Tu tarea es encontrar una solución que minimice el número de movimientos."
   ]
  },
  {
   "cell_type": "code",
   "execution_count": null,
   "metadata": {},
   "outputs": [],
   "source": [
    "# tu solucion\n"
   ]
  }
 ],
 "metadata": {
  "kernelspec": {
   "display_name": "env",
   "language": "python",
   "name": "python3"
  },
  "language_info": {
   "codemirror_mode": {
    "name": "ipython",
    "version": 3
   },
   "file_extension": ".py",
   "mimetype": "text/x-python",
   "name": "python",
   "nbconvert_exporter": "python",
   "pygments_lexer": "ipython3",
   "version": "3.9.13"
  }
 },
 "nbformat": 4,
 "nbformat_minor": 2
}
