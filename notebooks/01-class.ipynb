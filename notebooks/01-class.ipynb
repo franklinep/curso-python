{
 "cells": [
  {
   "cell_type": "markdown",
   "metadata": {},
   "source": [
    "# Clase 1: Fundamentos de Programación y Primeros Pasos en Python"
   ]
  },
  {
   "cell_type": "markdown",
   "metadata": {},
   "source": [
    "## 1. ¿Qué es un Algoritmo?\n",
    "\n",
    "Imagina que quieres preparar una taza de café. ¿Qué pasos seguirías?\n",
    "1.  Poner agua en la cafetera.\n",
    "2.  Poner café molido en el filtro.\n",
    "3.  Encender la cafetera.\n",
    "4.  Esperar a que el café se haga.\n",
    "5.  Servir en una taza.\n",
    "\n",
    "Esto es, en esencia, un **algoritmo**:\n",
    "\n",
    "> Un **algoritmo** es un conjunto finito de instrucciones claras, precisas y ordenadas que describen el proceso para resolver un problema o realizar una tarea específica.\n",
    "\n",
    "**Características clave de un algoritmo:**\n",
    "* **Finito:** Debe tener un número determinado de pasos y terminar en algún momento.\n",
    "* **Claro y Preciso:** Cada paso debe ser inconfundible y no dar lugar a ambigüedades.\n",
    "* **Ordenado:** Los pasos deben seguir una secuencia lógica.\n",
    "* **Definido:** Si se ejecuta varias veces con los mismos datos de entrada, debe producir el mismo resultado.\n",
    "* **General:** Debe ser aplicable a un conjunto de problemas similares, no solo a un caso particular.\n",
    "\n",
    "**¿Por qué son importantes?**\n",
    "Los algoritmos son la base de toda la programación. Antes de escribir una sola línea de código, un buen programador piensa en el algoritmo para resolver el problema."
   ]
  },
  {
   "cell_type": "markdown",
   "metadata": {},
   "source": [
    "### 1.1 Representación de Algoritmos\n",
    "\n",
    "Aunque no nos detendremos mucho en esto por ahora, es bueno saber que los algoritmos se pueden representar de varias maneras antes de escribir código:\n",
    "\n",
    "* **Lenguaje Natural:** Como el ejemplo del café, usando nuestro idioma.\n",
    "* **Pseudocódigo:** Un lenguaje \"falso\" que se parece al código real, pero es más fácil de entender para humanos.\n",
    "* **Diagramas de Flujo:** Representaciones gráficas que usan símbolos estándar para mostrar el flujo de la lógica.\n",
    "\n",
    "**Ejemplo simple en Pseudocódigo:**\n",
    "\n",
    "![m](imgs/pseudocodigo.png)"
   ]
  },
  {
   "cell_type": "markdown",
   "metadata": {},
   "source": [
    "## 2. Introducción a Python\n",
    "\n",
    "Ahora que sabemos qué es un algoritmo, ¿cómo le decimos a una computadora que ejecute esos pasos? ¡Ahí es donde entra el **lenguaje de programación**!\n",
    "\n",
    "**Python** es uno de los lenguajes de programación más populares del mundo por varias razones:\n",
    "\n",
    "* **Fácil de Aprender:** Su sintaxis es muy legible y se asemeja al inglés, lo que lo hace ideal para principiantes.\n",
    "* **Versátil:** Se usa en muchísimas áreas: desarrollo web, análisis de datos, inteligencia artificial, automatización, desarrollo de juegos, y mucho más.\n",
    "* **Multiplataforma:** Funciona en Windows, macOS, Linux.\n",
    "* **Gran Comunidad:** Hay muchísima ayuda, tutoriales y librerías disponibles.\n",
    "* **Gratuito y de Código Abierto:** No tienes que pagar para usarlo.\n",
    "\n",
    "### 2.1 ¿Qué es el Intérprete de Python?\n",
    "\n",
    "Imagina que tienes un libro escrito en un idioma que no entiendes. Necesitarías un **intérprete** que traduzca el libro frase por frase para ti.\n",
    "\n",
    "En programación, el **intérprete de Python** es un programa que \"lee\" tu código Python (escrito por ti) y lo \"traduce\" a instrucciones que la computadora puede entender y ejecutar directamente.\n",
    "\n",
    "#### Lenguajes Compilados y Interpretados\n",
    "\n",
    "* En un lenguaje compilado el programa que hace la traducción se llama “compilador” y se ejecuta una única vez sobre todo el código, generando uno o más archivos de código intermedio, que luego son finalmente convertidos en un archivo ejecutable. Luego de compilado y generado este archivo, el programa corre a partir del archivo ejecutable y no del código del programador. Es más: el código que escribió el programador se “pierde”, ya que el usuario sólo necesita el archivo ejecutable para poder correr el programa.\n",
    "\n",
    "* En un lenguaje interpretado el programa que traduce se llama “intérprete” y toma de a una instrucción por vez, traduciéndola y ejecutándola. Este trabajo debe realizarse cada vez que se desee correr el programa, por lo que el código escrito por el programador persiste.\n",
    "\n",
    "### 2.2 ¿Qué es un IDE? (Entorno de Desarrollo Integrado)\n",
    "\n",
    "Aunque puedes escribir código Python en un simple editor de texto como el Bloc de Notas, usar un **IDE (Integrated Development Environment)** hace la vida del programador mucho más fácil.\n",
    "\n",
    "Un IDE es un software que proporciona herramientas completas para el desarrollo de software, como:\n",
    "* **Editor de Código:** Con resaltado de sintaxis, autocompletado.\n",
    "* **Depurador (Debugger):** Para encontrar y corregir errores en tu código.\n",
    "* **Terminal/Consola:** Para ejecutar comandos directamente.\n",
    "* **Gestión de Proyectos:** Para organizar tus archivos.\n",
    "\n",
    "**Recomendaciones de IDEs (para instalar en casa):**\n",
    "* **VS Code (Visual Studio Code):** Ligero, rápido y muy popular, con muchas extensiones.\n",
    "* **PyCharm Community Edition:** Un IDE más completo, especialmente diseñado para Python.\n"
   ]
  },
  {
   "cell_type": "code",
   "execution_count": 1,
   "metadata": {},
   "outputs": [
    {
     "name": "stdout",
     "output_type": "stream",
     "text": [
      "Hola Mundo desde Python!\n",
      "¡Qué emoción empezar a programar!\n"
     ]
    }
   ],
   "source": [
    "# Este es tu primer programa en Python\n",
    "# La función print() se usa para mostrar texto en la pantalla\n",
    "print(\"Hola Mundo desde Python!\")\n",
    "print(\"¡Qué emoción empezar a programar!\")"
   ]
  },
  {
   "cell_type": "markdown",
   "metadata": {},
   "source": [
    "### ¿Cómo ejecutar un archivo `.py` (fuera de un Notebook)?\n",
    "\n",
    "Aunque estamos en un Notebook, es fundamental saber cómo ejecutar código Python en un archivo `.py` tradicional:\n",
    "\n",
    "1.  **Guarda tu código:** Escribe tu código en un editor de texto (como VS Code o PyCharm) y guárdalo con la extensión `.py` (ej. `mi_primer_programa.py`).\n",
    "2.  **Abre la Terminal/Consola:** Ve a la carpeta donde guardaste el archivo.\n",
    "3.  **Ejecuta el comando:** Escribe `python mi_primer_programa.py` y presiona Enter.\n"
   ]
  },
  {
   "cell_type": "markdown",
   "metadata": {},
   "source": [
    "## 3. Entradas y Salidas\n",
    "\n",
    "La mayoría de los programas necesitan interactuar con el usuario o con archivos. Esto se logra a través de:\n",
    "\n",
    "* **Salidas (Outputs):** Mostrar información al usuario (ya vimos `print()`).\n",
    "* **Entradas (Inputs):** Obtener información del usuario.\n",
    "\n",
    "### 3.1 Obtener Entradas con `input()`\n",
    "\n",
    "La función `input()` nos permite pedirle al usuario que escriba algo y luego usar esa información en nuestro programa.\n",
    "\n",
    "```python\n",
    "# Ejemplo de entrada de datos\n",
    "nombre = input(\"Por favor, ingresa tu nombre: \")\n",
    "print(\"¡Hola,\", nombre + \"!\") # Concatenamos el saludo con el nombre"
   ]
  },
  {
   "cell_type": "code",
   "execution_count": 2,
   "metadata": {},
   "outputs": [
    {
     "name": "stdout",
     "output_type": "stream",
     "text": [
      "Entonces tienes 12 años. ¡Genial!\n"
     ]
    }
   ],
   "source": [
    "# Pedir al usuario su edad\n",
    "edad_str = input(\"¿Cuántos años tienes? \")\n",
    "\n",
    "# Aunque esperamos un número, input() lo trae como texto.\n",
    "# Luego veremos cómo convertirlo a número.\n",
    "\n",
    "print(\"Entonces tienes\", edad_str, \"años. ¡Genial!\")"
   ]
  },
  {
   "cell_type": "code",
   "execution_count": 3,
   "metadata": {},
   "outputs": [
    {
     "data": {
      "text/plain": [
       "str"
      ]
     },
     "execution_count": 3,
     "metadata": {},
     "output_type": "execute_result"
    }
   ],
   "source": [
    "type(edad_str)  # Esto nos dice que edad_str es un texto (str)"
   ]
  },
  {
   "cell_type": "markdown",
   "metadata": {},
   "source": [
    "### 3.1 Tipos de Datos Básicos\n",
    "\n",
    "En programación, cada pieza de información tiene un **tipo de dato**. Conocer el tipo de dato es crucial porque determina qué operaciones puedes realizar con él.\n",
    "\n",
    "Los tipos de datos más comunes en Python son:\n",
    "\n",
    "1.  **Enteros (`int`):** Números sin decimales.\n",
    "    * Ejemplos: `5`, `-10`, `0`, `1000`\n",
    "\n",
    "2.  **Flotantes (`float`):** Números con decimales.\n",
    "    * Ejemplos: `3.14`, `-0.5`, `100.0` (aunque sea entero, si tiene `.0` es flotante)\n",
    "\n",
    "3.  **Cadenas de Texto (`str`):** Secuencias de caracteres (letras, números, símbolos) encerradas entre comillas simples (`'`) o dobles (`\"`).\n",
    "    * Ejemplos: `\"Hola\"`, `'Python es genial'`, `\"123\"`, `\"@#$%\" `\n",
    "\n",
    "4.  **Booleanos (`bool`):** Representan valores de verdad: `True` (verdadero) o `False` (falso). Se usan mucho en decisiones lógicas.\n",
    "    * Ejemplos: `True`, `False`\n",
    "\n",
    "Podemos usar la función `type()` para verificar el tipo de dato de un valor o variable."
   ]
  },
  {
   "cell_type": "code",
   "execution_count": 4,
   "metadata": {},
   "outputs": [
    {
     "name": "stdout",
     "output_type": "stream",
     "text": [
      "<class 'int'>\n",
      "<class 'float'>\n",
      "<class 'str'>\n",
      "<class 'bool'>\n"
     ]
    }
   ],
   "source": [
    "# Entero\n",
    "numero_entero = 42\n",
    "print(type(numero_entero)) # Salida: <class 'int'>\n",
    "\n",
    "# Flotante\n",
    "numero_flotante = 3.14159\n",
    "print(type(numero_flotante)) # Salida: <class 'float'>\n",
    "\n",
    "# Cadena de Texto\n",
    "mi_nombre = \"Ana\"\n",
    "print(type(mi_nombre)) # Salida: <class 'str'>\n",
    "\n",
    "# Booleano\n",
    "es_verdadero = True\n",
    "print(type(es_verdadero)) # Salida: <class 'bool'>"
   ]
  },
  {
   "cell_type": "markdown",
   "metadata": {},
   "source": [
    "### 3.2 Variables: Declaración y Asignación\n",
    "\n",
    "Una **variable** es como una caja o un contenedor con un nombre, donde puedes guardar un valor (un dato). Ese valor puede cambiar o \"variar\" durante la ejecución del programa.\n",
    "\n",
    "En Python, no necesitas \"declarar\" el tipo de la variable explícitamente. Python lo infiere automáticamente.\n",
    "\n",
    "* Tipado dinámico: significa que el tipo de una variable se determina en tiempo de ejecución, no es necesario declarar el tipo de una variable al crearla. \n",
    "\n",
    "```python\n",
    "x = 10      # x se considera un entero\n",
    "print(type(x))\n",
    "x = \"Hola\"  # x ahora es una cadena\n",
    "print(type(x))\n",
    "```\n",
    "* Tipado fuerte: significa que una vez que una variable tiene un tipo, no puede ser utilizada como si fuera de otro tipo sin una conversión explícita. \n",
    "```python\n",
    "a = 5\n",
    "b = \"7\"\n",
    "#print(a + b)  # Esto daría un error TypeError\n",
    "print(a + int(b)) # Esto funciona porque convertimos b a entero\n",
    "```\n",
    "**Sintaxis de asignación:**\n",
    "\n",
    "* El `=` es el **operador de asignación**. Significa \"guarda este valor en esta variable\".\n",
    "* El nombre de la variable debe ser descriptivo (ej. `edad` en lugar de `x`).\n",
    "* Los nombres de variables no pueden empezar con un número, no pueden contener espacios y son sensibles a mayúsculas y minúsculas (`Edad` es diferente de `edad`).\n"
   ]
  },
  {
   "cell_type": "code",
   "execution_count": 5,
   "metadata": {},
   "outputs": [
    {
     "name": "stdout",
     "output_type": "stream",
     "text": [
      "Hola, mundo!\n",
      "10\n",
      "1.25\n",
      "True\n"
     ]
    }
   ],
   "source": [
    "# Declaración y asignación de variables\n",
    "saludo = \"Hola, mundo!\" # Variable de tipo string\n",
    "cantidad_manzanas = 10    # Variable de tipo int\n",
    "precio_unidad = 1.25      # Variable de tipo float\n",
    "activo = True             # Variable de tipo bool\n",
    "\n",
    "print(saludo)\n",
    "print(cantidad_manzanas)\n",
    "print(precio_unidad)\n",
    "print(activo)"
   ]
  },
  {
   "cell_type": "markdown",
   "metadata": {},
   "source": [
    "#### **Celda 13 (Código): Reasignación de Variables**"
   ]
  },
  {
   "cell_type": "code",
   "execution_count": 9,
   "metadata": {},
   "outputs": [
    {
     "name": "stdout",
     "output_type": "stream",
     "text": [
      "Valor inicial: 10\n",
      "Valor después de reasignar: 25\n",
      "Valor después de reasignar a un texto: Ahora soy un texto\n"
     ]
    }
   ],
   "source": [
    "# Una variable puede cambiar su valor (y su tipo, aunque no es buena práctica hacerlo a menudo)\n",
    "\n",
    "mi_numero = 10\n",
    "print(\"Valor inicial:\", mi_numero)\n",
    "\n",
    "mi_numero = 25\n",
    "print(\"Valor después de reasignar:\", mi_numero)\n",
    "\n",
    "mi_numero = \"Ahora soy un texto\"\n",
    "print(\"Valor después de reasignar a un texto:\", mi_numero)\n",
    "\n",
    "# Aunque Python lo permite, generalmente es mejor que una variable mantenga el mismo tipo de dato\n",
    "# para evitar confusiones en el código."
   ]
  },
  {
   "cell_type": "markdown",
   "metadata": {},
   "source": [
    "### 3.3 Operadores Aritméticos\n",
    "\n",
    "Los operadores aritméticos nos permiten realizar cálculos matemáticos.\n",
    "\n",
    "| Operador | Operación        | Ejemplo      | Resultado |\n",
    "| :------- | :--------------- | :----------- | :-------- |\n",
    "| `+`      | Suma             | `5 + 3`      | `8`       |\n",
    "| `-`      | Resta            | `10 - 4`     | `6`       |\n",
    "| `*`      | Multiplicación   | `6 * 7`      | `42`      |\n",
    "| `/`      | División         | `10 / 3`     | `3.333...`|\n",
    "| `//`     | División Entera  | `10 // 3`    | `3`       |\n",
    "| `%`      | Módulo (Resto)   | `10 % 3`     | `1`       |\n",
    "| `**`     | Exponenciación   | `2 ** 3`     | `8`       |\n",
    "\n",
    "**¡Ojo con la división!**\n",
    "* `/` siempre devuelve un `float`.\n",
    "* `//` devuelve la parte entera de la división.\n",
    "* `%` es útil para saber si un número es par/impar (si `numero % 2 == 0` es par)."
   ]
  },
  {
   "cell_type": "code",
   "execution_count": 11,
   "metadata": {},
   "outputs": [
    {
     "name": "stdout",
     "output_type": "stream",
     "text": [
      "Suma: 15 + 4 = 19\n",
      "Resta: 15 - 4 = 11\n",
      "Multiplicación: 15 * 4 = 60\n",
      "División: 15 / 4 = 3.75\n",
      "División Entera: 15 // 4 = 3\n",
      "Módulo: 15 % 4 = 3\n",
      "Exponenciación: 15 ** 4 = 50625\n",
      "10 es par? True\n",
      "7 es par? False\n"
     ]
    }
   ],
   "source": [
    "a = 15\n",
    "b = 4\n",
    "\n",
    "print(f\"Suma: {a} + {b} = {a + b}\")\n",
    "print(f\"Resta: {a} - {b} = {a - b}\")\n",
    "print(f\"Multiplicación: {a} * {b} = {a * b}\")\n",
    "print(f\"División: {a} / {b} = {a / b}\")\n",
    "print(f\"División Entera: {a} // {b} = {a // b}\")\n",
    "print(f\"Módulo: {a} % {b} = {a % b}\")\n",
    "print(f\"Exponenciación: {a} ** {b} = {a ** b}\")\n",
    "\n",
    "# Uso del módulo para verificar si un número es par\n",
    "numero_par = 10\n",
    "numero_impar = 7\n",
    "\n",
    "print(f\"{numero_par} es par? {numero_par % 2 == 0}\")\n",
    "print(f\"{numero_impar} es par? {numero_impar % 2 == 0}\")"
   ]
  },
  {
   "cell_type": "markdown",
   "metadata": {},
   "source": [
    "### 3.3 Operadores Lógicos\n",
    "\n",
    "Los operadores lógicos se usan para combinar o modificar expresiones booleanas (`True` o `False`). Son fundamentales para tomar decisiones en tus programas.\n",
    "\n",
    "| Operador | Descripción                                           | Ejemplo                  | Resultado |\n",
    "| :------- | :---------------------------------------------------- | :----------------------- | :-------- |\n",
    "| `and`    | `True` si ambas expresiones son `True`.             | `True and False`         | `False`   |\n",
    "| `or`     | `True` si al menos una expresión es `True`.         | `True or False`          | `True`    |\n",
    "| `not`    | Invierte el valor booleano (`True` se vuelve `False` y viceversa). | `not True`               | `False`   |"
   ]
  },
  {
   "cell_type": "code",
   "execution_count": 12,
   "metadata": {},
   "outputs": [
    {
     "name": "stdout",
     "output_type": "stream",
     "text": [
      "Puede conducir y tiene licencia? False\n",
      "Es mayor de edad o tiene licencia? True\n",
      "No tiene licencia? True\n",
      "Puede conducir legalmente? False\n",
      "Salimos a la calle? True\n"
     ]
    }
   ],
   "source": [
    "es_mayor_de_edad = True\n",
    "tiene_licencia = False\n",
    "sabe_conducir = True\n",
    "\n",
    "# Usando 'and'\n",
    "print(f\"Puede conducir y tiene licencia? {es_mayor_de_edad and tiene_licencia}\") # False\n",
    "\n",
    "# Usando 'or'\n",
    "print(f\"Es mayor de edad o tiene licencia? {es_mayor_de_edad or tiene_licencia}\") # True\n",
    "\n",
    "# Usando 'not'\n",
    "print(f\"No tiene licencia? {not tiene_licencia}\") # True\n",
    "\n",
    "# Combinando operadores\n",
    "print(f\"Puede conducir legalmente? {es_mayor_de_edad and tiene_licencia and sabe_conducir}\") # False\n",
    "\n",
    "llueve = True\n",
    "hace_frio = False\n",
    "\n",
    "print(f\"Salimos a la calle? {not llueve or not hace_frio}\") # False or True = True"
   ]
  },
  {
   "cell_type": "markdown",
   "metadata": {},
   "source": [
    "## Ejercicio\n",
    "Pide al usuario la longitud y el ancho de un rectángulo, luego calcula y muestra su área.\n",
    "\n",
    "**Pasos:**\n",
    "1.  Usa `input()` para obtener la longitud.\n",
    "2.  Usa `input()` para obtener el ancho.\n",
    "3.  **¡IMPORTANTE!** Recuerda que `input()` devuelve texto. Necesitamos convertirlo a números (enteros o flotantes) para poder multiplicarlos. Usaremos `int()` o `float()` para esto.\n",
    "    * Ejemplo: `longitud = float(input(\"Ingresa la longitud: \"))`\n",
    "4.  Calcula el área (`longitud * ancho`).\n",
    "5.  Usa `print()` para mostrar el resultado."
   ]
  },
  {
   "cell_type": "code",
   "execution_count": null,
   "metadata": {},
   "outputs": [],
   "source": [
    "### tu solucion aqui"
   ]
  },
  {
   "cell_type": "markdown",
   "metadata": {},
   "source": [
    "## Referencias y Recursos Adicionales\n",
    "\n",
    "Para profundizar en los temas de hoy y seguir practicando:\n",
    "\n",
    "* **Documentación Oficial de Python (Tutorial):**\n",
    "    * [https://docs.python.org/es/3/tutorial/](https://docs.python.org/es/3/tutorial/) (Especialmente las secciones 3.1.1 \"Números\", 3.1.2 \"Cadenas\", y 3.2 \"Primeros pasos hacia la programación\").\n",
    "\n",
    "* **Libros Recomendados (para principiantes):**\n",
    "    * **\"Python Crash Course\" de Eric Matthes:** Ideal para una introducción práctica con proyectos.\n",
    "    * **\"Automate the Boring Stuff with Python\" de Al Sweigart:** Aprende Python resolviendo problemas útiles.\n",
    "\n",
    "* **Videos de YouTube (en español):**\n",
    "    * **Píldoras informáticas - Curso de Python:** Busca la serie completa, es muy didáctica.\n",
    "    * **MoureDev by Brais Moure:** Tutoriales claros y concisos.\n",
    "\n",
    "* **Plataformas Interactivas (para practicar código):**\n",
    "    * **Codecademy:** Ofrece cursos interactivos de Python (la versión gratuita tiene muchos ejercicios básicos).\n",
    "    * **SoloLearn:** Aplicación móvil con lecciones y ejercicios para aprender Python sobre la marcha.\n",
    "\n",
    "**¡No dudes en preguntar si tienes alguna duda sobre estos recursos o cualquier otro tema!**"
   ]
  },
  {
   "cell_type": "markdown",
   "metadata": {},
   "source": []
  }
 ],
 "metadata": {
  "kernelspec": {
   "display_name": "env",
   "language": "python",
   "name": "python3"
  },
  "language_info": {
   "codemirror_mode": {
    "name": "ipython",
    "version": 3
   },
   "file_extension": ".py",
   "mimetype": "text/x-python",
   "name": "python",
   "nbconvert_exporter": "python",
   "pygments_lexer": "ipython3",
   "version": "3.9.13"
  }
 },
 "nbformat": 4,
 "nbformat_minor": 2
}
